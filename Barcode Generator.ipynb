{
 "cells": [
  {
   "cell_type": "code",
   "execution_count": 39,
   "id": "bd722616-0941-47b1-abe7-973240aae04c",
   "metadata": {},
   "outputs": [],
   "source": [
    "### Installing python-barcode ###\n",
    "pip install python-barcode"
   ]
  },
  {
   "cell_type": "code",
   "execution_count": 40,
   "id": "6e353aff-b710-41af-a626-3ab4f96da56d",
   "metadata": {},
   "outputs": [
    {
     "name": "stdout",
     "output_type": "stream",
     "text": [
      "Barcode saved as Barcode1.png\n"
     ]
    }
   ],
   "source": [
    "import barcode\n",
    "from barcode.writer import ImageWriter\n",
    "\n",
    "# Generate EAN-13 barcode\n",
    "ean = barcode.get('ean13', '123456789102', writer=ImageWriter())\n",
    "filename = ean.save('Barcode1')\n",
    "\n",
    "print(f\"Barcode saved as {filename}\")"
   ]
  },
  {
   "cell_type": "code",
   "execution_count": 41,
   "id": "40d9032b-7b6c-41be-8475-0e62bd55634d",
   "metadata": {},
   "outputs": [],
   "source": [
    "### More than 1 Barcode ###"
   ]
  },
  {
   "cell_type": "code",
   "execution_count": 42,
   "id": "fa804384-93d1-456e-adc6-5eb51fd760c8",
   "metadata": {},
   "outputs": [],
   "source": [
    "from barcode import EAN13\n",
    "from barcode.writer import ImageWriter"
   ]
  },
  {
   "cell_type": "code",
   "execution_count": 50,
   "id": "2cc3bd83-049f-49b5-b73c-12cbedaf1463",
   "metadata": {},
   "outputs": [
    {
     "name": "stdin",
     "output_type": "stream",
     "text": [
      "How many Barcodes do you want? 2\n",
      " Give 12-Digit numbers for your barcode id:  098765432111\n",
      " Give the name to save the barcode:  Barcode3\n",
      " Give 12-Digit numbers for your barcode id:  098765432112\n",
      " Give the name to save the barcode:  Barcode4\n"
     ]
    }
   ],
   "source": [
    "num_of_barcodes = int(input(\"How many Barcodes do you want?\"))\n",
    "numbers = range(num_of_barcodes)\n",
    "for i in numbers:\n",
    "    id = input(\" Give 12-Digit numbers for your barcode id: \")\n",
    "    my_code = EAN13(id, writer=ImageWriter())\n",
    "    name = input(\" Give the name to save the barcode: \")\n",
    "    my_code.save(name)"
   ]
  }
 ],
 "metadata": {
  "kernelspec": {
   "display_name": "Python 3 (ipykernel)",
   "language": "python",
   "name": "python3"
  },
  "language_info": {
   "codemirror_mode": {
    "name": "ipython",
    "version": 3
   },
   "file_extension": ".py",
   "mimetype": "text/x-python",
   "name": "python",
   "nbconvert_exporter": "python",
   "pygments_lexer": "ipython3",
   "version": "3.11.7"
  }
 },
 "nbformat": 4,
 "nbformat_minor": 5
}
